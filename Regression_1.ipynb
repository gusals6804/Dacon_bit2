{
 "cells": [
  {
   "cell_type": "code",
   "execution_count": 1,
   "id": "overhead-mining",
   "metadata": {},
   "outputs": [
    {
     "data": {
      "text/html": [
       "<style>.container { width: 100% !important; }</style>"
      ],
      "text/plain": [
       "<IPython.core.display.HTML object>"
      ]
     },
     "metadata": {},
     "output_type": "display_data"
    }
   ],
   "source": [
    "import pandas as pd\n",
    "import numpy as np\n",
    "from tqdm import tqdm\n",
    "from sklearn.model_selection import train_test_split\n",
    "\n",
    "from xgboost import XGBRegressor\n",
    "from lightgbm import LGBMRegressor\n",
    "from catboost import CatBoostRegressor\n",
    "\n",
    "from sklearn.model_selection import KFold\n",
    "from sklearn.metrics import mean_absolute_error as mse\n",
    "from sklearn.metrics import mean_absolute_error as mae\n",
    "\n",
    "import matplotlib.pyplot as plt\n",
    "\n",
    "import warnings\n",
    "warnings.filterwarnings('ignore')\n",
    "from IPython.core.display import display, HTML\n",
    "display(HTML(\"<style>.container { width: 100% !important; }</style>\"))"
   ]
  },
  {
   "cell_type": "markdown",
   "id": "touched-machinery",
   "metadata": {},
   "source": [
    "# 데이터 불러오기"
   ]
  },
  {
   "cell_type": "markdown",
   "id": "hazardous-value",
   "metadata": {},
   "source": [
    "# 1) read_csv"
   ]
  },
  {
   "cell_type": "code",
   "execution_count": 2,
   "id": "critical-freight",
   "metadata": {},
   "outputs": [
    {
     "data": {
      "text/html": [
       "<div>\n",
       "<style scoped>\n",
       "    .dataframe tbody tr th:only-of-type {\n",
       "        vertical-align: middle;\n",
       "    }\n",
       "\n",
       "    .dataframe tbody tr th {\n",
       "        vertical-align: top;\n",
       "    }\n",
       "\n",
       "    .dataframe thead th {\n",
       "        text-align: right;\n",
       "    }\n",
       "</style>\n",
       "<table border=\"1\" class=\"dataframe\">\n",
       "  <thead>\n",
       "    <tr style=\"text-align: right;\">\n",
       "      <th></th>\n",
       "      <th>sample_id</th>\n",
       "      <th>time</th>\n",
       "      <th>coin_index</th>\n",
       "      <th>open</th>\n",
       "      <th>high</th>\n",
       "      <th>low</th>\n",
       "      <th>close</th>\n",
       "      <th>volume</th>\n",
       "      <th>quote_av</th>\n",
       "      <th>trades</th>\n",
       "      <th>tb_base_av</th>\n",
       "      <th>tb_quote_av</th>\n",
       "    </tr>\n",
       "  </thead>\n",
       "  <tbody>\n",
       "    <tr>\n",
       "      <th>0</th>\n",
       "      <td>0</td>\n",
       "      <td>0</td>\n",
       "      <td>9</td>\n",
       "      <td>0.983614</td>\n",
       "      <td>0.983614</td>\n",
       "      <td>0.983128</td>\n",
       "      <td>0.983246</td>\n",
       "      <td>0.001334</td>\n",
       "      <td>10.650987</td>\n",
       "      <td>0.009855</td>\n",
       "      <td>0.000848</td>\n",
       "      <td>6.771755</td>\n",
       "    </tr>\n",
       "    <tr>\n",
       "      <th>1</th>\n",
       "      <td>0</td>\n",
       "      <td>1</td>\n",
       "      <td>9</td>\n",
       "      <td>0.983245</td>\n",
       "      <td>0.983612</td>\n",
       "      <td>0.982453</td>\n",
       "      <td>0.982693</td>\n",
       "      <td>0.001425</td>\n",
       "      <td>11.375689</td>\n",
       "      <td>0.016137</td>\n",
       "      <td>0.000697</td>\n",
       "      <td>5.565188</td>\n",
       "    </tr>\n",
       "    <tr>\n",
       "      <th>2</th>\n",
       "      <td>0</td>\n",
       "      <td>2</td>\n",
       "      <td>9</td>\n",
       "      <td>0.982694</td>\n",
       "      <td>0.983612</td>\n",
       "      <td>0.982403</td>\n",
       "      <td>0.983002</td>\n",
       "      <td>0.001542</td>\n",
       "      <td>12.301942</td>\n",
       "      <td>0.014166</td>\n",
       "      <td>0.000905</td>\n",
       "      <td>7.225459</td>\n",
       "    </tr>\n",
       "    <tr>\n",
       "      <th>3</th>\n",
       "      <td>0</td>\n",
       "      <td>3</td>\n",
       "      <td>9</td>\n",
       "      <td>0.983009</td>\n",
       "      <td>0.984848</td>\n",
       "      <td>0.983009</td>\n",
       "      <td>0.984486</td>\n",
       "      <td>0.002520</td>\n",
       "      <td>20.134695</td>\n",
       "      <td>0.021557</td>\n",
       "      <td>0.001171</td>\n",
       "      <td>9.353000</td>\n",
       "    </tr>\n",
       "    <tr>\n",
       "      <th>4</th>\n",
       "      <td>0</td>\n",
       "      <td>4</td>\n",
       "      <td>9</td>\n",
       "      <td>0.984233</td>\n",
       "      <td>0.984606</td>\n",
       "      <td>0.983612</td>\n",
       "      <td>0.984164</td>\n",
       "      <td>0.002818</td>\n",
       "      <td>22.515448</td>\n",
       "      <td>0.021434</td>\n",
       "      <td>0.001799</td>\n",
       "      <td>14.372534</td>\n",
       "    </tr>\n",
       "  </tbody>\n",
       "</table>\n",
       "</div>"
      ],
      "text/plain": [
       "   sample_id  time  coin_index      open      high       low     close  \\\n",
       "0          0     0           9  0.983614  0.983614  0.983128  0.983246   \n",
       "1          0     1           9  0.983245  0.983612  0.982453  0.982693   \n",
       "2          0     2           9  0.982694  0.983612  0.982403  0.983002   \n",
       "3          0     3           9  0.983009  0.984848  0.983009  0.984486   \n",
       "4          0     4           9  0.984233  0.984606  0.983612  0.984164   \n",
       "\n",
       "     volume   quote_av    trades  tb_base_av  tb_quote_av  \n",
       "0  0.001334  10.650987  0.009855    0.000848     6.771755  \n",
       "1  0.001425  11.375689  0.016137    0.000697     5.565188  \n",
       "2  0.001542  12.301942  0.014166    0.000905     7.225459  \n",
       "3  0.002520  20.134695  0.021557    0.001171     9.353000  \n",
       "4  0.002818  22.515448  0.021434    0.001799    14.372534  "
      ]
     },
     "execution_count": 2,
     "metadata": {},
     "output_type": "execute_result"
    }
   ],
   "source": [
    "train_x_df = pd.read_csv('./data/train_x_df.csv')\n",
    "train_y_df = pd.read_csv('./data/train_y_df.csv')\n",
    "test_x_df = pd.read_csv('./data/test_x_df.csv')\n",
    "train_x_df.head()"
   ]
  },
  {
   "cell_type": "markdown",
   "id": "diverse-trunk",
   "metadata": {},
   "source": [
    "# 2) numpy arrary로 변환하기"
   ]
  },
  {
   "cell_type": "code",
   "execution_count": 3,
   "id": "dominican-reference",
   "metadata": {},
   "outputs": [],
   "source": [
    "def df2d_to_array3d(df_2d):\n",
    "    feature_size = len(df_2d.columns[3:])\n",
    "    time_size = len(df_2d.time.unique())\n",
    "    sample_size = len(df_2d.sample_id.unique())\n",
    "    array_3d = df_2d.iloc[:,3:].values.reshape([sample_size, time_size, feature_size])\n",
    "    return array_3d"
   ]
  },
  {
   "cell_type": "code",
   "execution_count": 4,
   "id": "public-jackson",
   "metadata": {},
   "outputs": [],
   "source": [
    "train_x_array = df2d_to_array3d(train_x_df)\n",
    "train_y_array = df2d_to_array3d(train_y_df)\n",
    "test_x_array = df2d_to_array3d(test_x_df)"
   ]
  },
  {
   "cell_type": "code",
   "execution_count": 5,
   "id": "black-thursday",
   "metadata": {},
   "outputs": [
    {
     "name": "stdout",
     "output_type": "stream",
     "text": [
      "\n",
      "train_x_array (7661, 1380, 9)\n",
      "train_y_array (7661, 120, 9)\n",
      "test_x_array (535, 1380, 9)\n",
      "\n"
     ]
    }
   ],
   "source": [
    "print(f'''\n",
    "train_x_array {train_x_array.shape}\n",
    "train_y_array {train_y_array.shape}\n",
    "test_x_array {test_x_array.shape}\n",
    "''')"
   ]
  },
  {
   "cell_type": "markdown",
   "id": "needed-modem",
   "metadata": {},
   "source": [
    "# 3) 샘플 확인하기"
   ]
  },
  {
   "cell_type": "code",
   "execution_count": 6,
   "id": "flush-probe",
   "metadata": {},
   "outputs": [],
   "source": [
    "def plot_series(x_series, y_series):\n",
    "    #입력 series와 출력 series를 연속적으로 연결하여 시각적으로 보여주는 코드 입니다.\n",
    "    plt.plot(x_series, label = 'input_series')\n",
    "    plt.plot(np.arange(len(x_series), len(x_series)+len(y_series)),\n",
    "             y_series, label = 'output_series')\n",
    "    plt.axhline(1, c = 'red')\n",
    "    plt.legend()"
   ]
  },
  {
   "cell_type": "code",
   "execution_count": 7,
   "id": "introductory-custody",
   "metadata": {},
   "outputs": [
    {
     "data": {
      "image/png": "[encoded data removed]",
      "text/plain": [
       "<Figure size 432x288 with 1 Axes>"
      ]
     },
     "metadata": {
      "needs_background": "light"
     },
     "output_type": "display_data"
    }
   ],
   "source": [
    "# sample_id 1012에 해당하는 sample의 분단위 시가 변동 정보 시각화\n",
    "idx = 1012\n",
    "plot_series(train_x_array[idx,:,1], train_y_array[idx,:,1])\n",
    "plt.show()"
   ]
  },
  {
   "cell_type": "code",
   "execution_count": 8,
   "id": "equivalent-terminal",
   "metadata": {},
   "outputs": [
    {
     "data": {
      "text/plain": [
       "((7661, 1380, 1), (7661, 120, 1))"
      ]
     },
     "execution_count": 8,
     "metadata": {},
     "output_type": "execute_result"
    }
   ],
   "source": [
    "X = train_x_array[:, :, [1]]\n",
    "y = train_y_array[:, :, [1]]\n",
    "X.shape, y.shape"
   ]
  },
  {
   "cell_type": "markdown",
   "id": "pending-medium",
   "metadata": {},
   "source": [
    "# train_y에서 max값과 max인 시점 구하기"
   ]
  },
  {
   "cell_type": "code",
   "execution_count": 9,
   "id": "intensive-rabbit",
   "metadata": {},
   "outputs": [
    {
     "data": {
      "text/plain": [
       "7661"
      ]
     },
     "execution_count": 9,
     "metadata": {},
     "output_type": "execute_result"
    }
   ],
   "source": [
    "y.shape[0]"
   ]
  },
  {
   "cell_type": "code",
   "execution_count": 10,
   "id": "tutorial-membership",
   "metadata": {},
   "outputs": [],
   "source": [
    "y_max_price = []\n",
    "y_max_time = []\n",
    "\n",
    "for i in range(y.shape[0]):\n",
    "    y_max_price.append(y[i].max())\n",
    "    y_max_time.append(y[i].argmax())"
   ]
  },
  {
   "cell_type": "code",
   "execution_count": 11,
   "id": "incredible-teddy",
   "metadata": {},
   "outputs": [
    {
     "data": {
      "text/plain": [
       "((7661,), (7661,))"
      ]
     },
     "execution_count": 11,
     "metadata": {},
     "output_type": "execute_result"
    }
   ],
   "source": [
    "y_max_price = np.array(y_max_price)\n",
    "y_max_time = np.array(y_max_time)\n",
    "\n",
    "y_max_price.shape, y_max_time.shape "
   ]
  },
  {
   "cell_type": "markdown",
   "id": "linear-arctic",
   "metadata": {},
   "source": [
    "# 가장 높은 시점 그래프로 확인하기"
   ]
  },
  {
   "cell_type": "code",
   "execution_count": 12,
   "id": "crucial-budget",
   "metadata": {},
   "outputs": [],
   "source": [
    "def max_plot_series(x_series, y_series, y_max_value, y_max_time):\n",
    "    #입력 series와 출력 series를 연속적으로 연결하여 시각적으로 보여주는 코드 입니다.\n",
    "    plt.plot(x_series, label = 'input_series')\n",
    "    plt.plot(np.arange(len(x_series), len(x_series)+len(y_series)),\n",
    "             y_series, label = 'output_series')\n",
    "    plt.scatter(len(x_series)+y_max_time, y_max_value, c = 'green', label = 'max_time')\n",
    "    plt.axhline(1, c = 'red')\n",
    "    plt.legend()"
   ]
  },
  {
   "cell_type": "code",
   "execution_count": 13,
   "id": "unlimited-skating",
   "metadata": {},
   "outputs": [
    {
     "data": {
      "image/png": "[encoded data removed]",
      "text/plain": [
       "<Figure size 432x288 with 1 Axes>"
      ]
     },
     "metadata": {
      "needs_background": "light"
     },
     "output_type": "display_data"
    }
   ],
   "source": [
    "# sample_id 1012에 해당하는 sample의 분단위 시가 변동 정보 시각화\n",
    "idx = 1012\n",
    "max_plot_series(X[idx], y[idx], y_max_price[idx], y_max_time[idx])\n",
    "plt.show()"
   ]
  },
  {
   "cell_type": "markdown",
   "id": "still-processing",
   "metadata": {},
   "source": [
    "# train 데이터 분할하여 결과 확인해보기"
   ]
  },
  {
   "cell_type": "code",
   "execution_count": 14,
   "id": "backed-quantum",
   "metadata": {},
   "outputs": [],
   "source": [
    "X = X.reshape(X.shape[0], X.shape[1]) \n",
    "y = y.reshape(y.shape[0], y.shape[1]) "
   ]
  },
  {
   "cell_type": "code",
   "execution_count": 15,
   "id": "average-defeat",
   "metadata": {},
   "outputs": [
    {
     "data": {
      "text/plain": [
       "((6128, 1380), (6128, 120), (6128,), (6128,))"
      ]
     },
     "execution_count": 15,
     "metadata": {},
     "output_type": "execute_result"
    }
   ],
   "source": [
    "X_train, X_test, Y_train, Y_test, y_price_train, y_price_test, y_time_train, y_time_test = train_test_split(X, y, y_max_price, y_max_time, test_size=0.2, random_state=529)\n",
    "X_train.shape, Y_train.shape, y_price_train.shape, y_time_train.shape"
   ]
  },
  {
   "cell_type": "markdown",
   "id": "decimal-stuart",
   "metadata": {},
   "source": [
    "# max_time 예측"
   ]
  },
  {
   "cell_type": "code",
   "execution_count": 16,
   "id": "cathedral-blackberry",
   "metadata": {},
   "outputs": [
    {
     "data": {
      "text/plain": [
       "LGBMRegressor()"
      ]
     },
     "execution_count": 16,
     "metadata": {},
     "output_type": "execute_result"
    }
   ],
   "source": [
    "lgbm_time = LGBMRegressor()\n",
    "lgbm_time.fit(X_train, y_time_train)"
   ]
  },
  {
   "cell_type": "code",
   "execution_count": 17,
   "id": "particular-manchester",
   "metadata": {},
   "outputs": [],
   "source": [
    "y_time_pred = lgbm_time.predict(X_test)"
   ]
  },
  {
   "cell_type": "markdown",
   "id": "widespread-stone",
   "metadata": {},
   "source": [
    "# max_value 예측"
   ]
  },
  {
   "cell_type": "code",
   "execution_count": 18,
   "id": "julian-liberty",
   "metadata": {},
   "outputs": [
    {
     "data": {
      "text/plain": [
       "LGBMRegressor()"
      ]
     },
     "execution_count": 18,
     "metadata": {},
     "output_type": "execute_result"
    }
   ],
   "source": [
    "lgbm_price = LGBMRegressor()\n",
    "lgbm_price.fit(X_train, y_price_train)"
   ]
  },
  {
   "cell_type": "code",
   "execution_count": 19,
   "id": "radio-antigua",
   "metadata": {},
   "outputs": [],
   "source": [
    "y_price_pred = lgbm_price.predict(X_test)"
   ]
  },
  {
   "cell_type": "markdown",
   "id": "detailed-conversation",
   "metadata": {},
   "source": [
    "# 예측 결과 시각화"
   ]
  },
  {
   "cell_type": "code",
   "execution_count": 20,
   "id": "first-british",
   "metadata": {},
   "outputs": [],
   "source": [
    "def pred_plot_series(x_series, y_series, y_max_value, y_max_time, y_value_pred, y_time_pred):\n",
    "    plt.plot(x_series, label = 'input_series')\n",
    "    plt.plot(np.arange(len(x_series), len(x_series)+len(y_series)),\n",
    "             y_series, label = 'output_series')\n",
    "    plt.scatter(len(x_series)+y_max_time, y_max_value, c = 'green', label = 'max_time')\n",
    "    plt.scatter(len(x_series)+y_time_pred, y_value_pred, c = 'red', label = 'pred_max')\n",
    "    plt.axhline(1, c = 'red')\n",
    "    plt.legend()"
   ]
  },
  {
   "cell_type": "code",
   "execution_count": 21,
   "id": "compressed-laser",
   "metadata": {},
   "outputs": [
    {
     "data": {
      "image/png": "[encoded data removed]",
      "text/plain": [
       "<Figure size 432x288 with 1 Axes>"
      ]
     },
     "metadata": {
      "needs_background": "light"
     },
     "output_type": "display_data"
    }
   ],
   "source": [
    "idx = 12\n",
    "pred_plot_series(X_test[idx], Y_test[idx], y_price_test[idx], y_time_test[idx], y_price_pred[idx], y_time_pred[idx])\n",
    "plt.show()"
   ]
  },
  {
   "cell_type": "markdown",
   "id": "revolutionary-artist",
   "metadata": {},
   "source": [
    "# Kfold"
   ]
  },
  {
   "cell_type": "markdown",
   "id": "digital-firmware",
   "metadata": {},
   "source": [
    "time은 mse, price는 mae를 활용"
   ]
  },
  {
   "cell_type": "markdown",
   "id": "dangerous-carbon",
   "metadata": {},
   "source": [
    "# max_time 예측"
   ]
  },
  {
   "cell_type": "code",
   "execution_count": 22,
   "id": "through-gender",
   "metadata": {},
   "outputs": [],
   "source": [
    "def time_kfold(model, train_x, train_y, test, n_folds=10):\n",
    "    \n",
    "    folds = KFold(n_splits=n_folds, shuffle=False)\n",
    "    sub = np.zeros((test.shape[0], 1))\n",
    "    outcomes=[]\n",
    "\n",
    "    for n_fold, (train_index, valid_index) in enumerate(folds.split(train_x)):\n",
    "        \n",
    "        X_train, X_val = train_x[train_index], train_x[valid_index]\n",
    "        y_train, y_val = train_y[train_index], train_y[valid_index]\n",
    "        \n",
    "        #학습\n",
    "        model.fit(X_train, y_train)\n",
    "        \n",
    "        # val 데이터 예측\n",
    "        y_val = np.array(y_val).reshape(-1, 1)\n",
    "        y_val_predict = model.predict(X_val).reshape(-1, 1)\n",
    "        \n",
    "        mse_val = mse(y_val, y_val_predict)\n",
    "        outcomes.append(mse_val)\n",
    "        \n",
    "        # 테스트 데이터 예측\n",
    "        sub += model.predict(test).reshape(-1, 1)\n",
    "        \n",
    "    # val mse값으로 성능 평가\n",
    "    print(np.mean(outcomes))\n",
    "    test_pred = sub/(folds.n_splits)\n",
    "    \n",
    "    return test_pred"
   ]
  },
  {
   "cell_type": "code",
   "execution_count": 23,
   "id": "expressed-season",
   "metadata": {},
   "outputs": [
    {
     "name": "stdout",
     "output_type": "stream",
     "text": [
      "35.84054733162939\n"
     ]
    }
   ],
   "source": [
    "model = LGBMRegressor()\n",
    "test_time_pred = time_kfold(model, X_train, y_time_train, X_test)"
   ]
  },
  {
   "cell_type": "markdown",
   "id": "missing-assault",
   "metadata": {},
   "source": [
    "# max_price 예측"
   ]
  },
  {
   "cell_type": "code",
   "execution_count": 24,
   "id": "joined-bailey",
   "metadata": {},
   "outputs": [],
   "source": [
    "def price_kfold(model, train_x, train_y, test, n_folds=10):\n",
    "    \n",
    "    folds = KFold(n_splits=n_folds, shuffle=False)\n",
    "    sub = np.zeros((test.shape[0], 1))\n",
    "    outcomes=[]\n",
    "\n",
    "    for n_fold, (train_index, valid_index) in enumerate(folds.split(train_x)):\n",
    "        \n",
    "        X_train, X_val = train_x[train_index], train_x[valid_index]\n",
    "        y_train, y_val = train_y[train_index], train_y[valid_index]\n",
    "        \n",
    "        #학습\n",
    "        model.fit(X_train, y_train)\n",
    "        \n",
    "        # val 데이터 예측\n",
    "        y_val = np.array(y_val).reshape(-1, 1)\n",
    "        y_val_predict = model.predict(X_val).reshape(-1, 1)\n",
    "        \n",
    "        mae_val = mae(y_val, y_val_predict)\n",
    "        outcomes.append(mae_val)\n",
    "        \n",
    "        # 테스트 데이터 예측\n",
    "        sub += model.predict(test).reshape(-1, 1)\n",
    "        \n",
    "    # val mae값으로 성능 평가\n",
    "    print(np.mean(outcomes))\n",
    "    test_pred = sub/(folds.n_splits)\n",
    "    \n",
    "    return test_pred"
   ]
  },
  {
   "cell_type": "code",
   "execution_count": 25,
   "id": "daily-catalog",
   "metadata": {},
   "outputs": [
    {
     "name": "stdout",
     "output_type": "stream",
     "text": [
      "0.00823250403872502\n"
     ]
    }
   ],
   "source": [
    "model = LGBMRegressor()\n",
    "test_price_pred = price_kfold(model, X_train, y_price_train, X_test)"
   ]
  },
  {
   "cell_type": "code",
   "execution_count": 26,
   "id": "proper-harbor",
   "metadata": {},
   "outputs": [
    {
     "data": {
      "image/png": "[encoded data removed]",
      "text/plain": [
       "<Figure size 432x288 with 1 Axes>"
      ]
     },
     "metadata": {
      "needs_background": "light"
     },
     "output_type": "display_data"
    }
   ],
   "source": [
    "idx = 12\n",
    "pred_plot_series(X_test[idx], Y_test[idx], y_price_test[idx], y_time_test[idx], test_price_pred[idx], test_time_pred[idx])\n",
    "plt.show()"
   ]
  },
  {
   "cell_type": "markdown",
   "id": "understanding-manhattan",
   "metadata": {},
   "source": [
    "# 테스트 셋 적용"
   ]
  },
  {
   "cell_type": "code",
   "execution_count": 27,
   "id": "stuck-physics",
   "metadata": {},
   "outputs": [
    {
     "data": {
      "text/plain": [
       "(535, 1380, 1)"
      ]
     },
     "execution_count": 27,
     "metadata": {},
     "output_type": "execute_result"
    }
   ],
   "source": [
    "test = test_x_array[:, :, [1]]\n",
    "test.shape"
   ]
  },
  {
   "cell_type": "code",
   "execution_count": 28,
   "id": "exclusive-intro",
   "metadata": {},
   "outputs": [
    {
     "data": {
      "text/plain": [
       "(535, 1380)"
      ]
     },
     "execution_count": 28,
     "metadata": {},
     "output_type": "execute_result"
    }
   ],
   "source": [
    "test = test.reshape(test.shape[0], test.shape[1]) \n",
    "test.shape"
   ]
  },
  {
   "cell_type": "markdown",
   "id": "documentary-looking",
   "metadata": {},
   "source": [
    "# test max_time 예측"
   ]
  },
  {
   "cell_type": "code",
   "execution_count": 29,
   "id": "necessary-order",
   "metadata": {},
   "outputs": [
    {
     "name": "stdout",
     "output_type": "stream",
     "text": [
      "35.78508558331725\n"
     ]
    }
   ],
   "source": [
    "model = LGBMRegressor()\n",
    "test_time_pred = time_kfold(model, X, y_max_time, test)"
   ]
  },
  {
   "cell_type": "markdown",
   "id": "complimentary-algeria",
   "metadata": {},
   "source": [
    "# test max_price 예측"
   ]
  },
  {
   "cell_type": "code",
   "execution_count": 30,
   "id": "artistic-portland",
   "metadata": {},
   "outputs": [
    {
     "name": "stdout",
     "output_type": "stream",
     "text": [
      "0.00807821508761127\n"
     ]
    }
   ],
   "source": [
    "model = LGBMRegressor()\n",
    "test_price_pred = price_kfold(model, X, y_max_price, test)"
   ]
  },
  {
   "cell_type": "markdown",
   "id": "controversial-template",
   "metadata": {},
   "source": [
    "# 제출 파일 생성"
   ]
  },
  {
   "cell_type": "markdown",
   "id": "banner-cooperative",
   "metadata": {},
   "source": [
    "최대 값인 time int로 변경"
   ]
  },
  {
   "cell_type": "code",
   "execution_count": 31,
   "id": "worth-victoria",
   "metadata": {},
   "outputs": [
    {
     "data": {
      "text/plain": [
       "45.91774645177898"
      ]
     },
     "execution_count": 31,
     "metadata": {},
     "output_type": "execute_result"
    }
   ],
   "source": [
    "test_time_pred[0][0]"
   ]
  },
  {
   "cell_type": "code",
   "execution_count": 32,
   "id": "desperate-requirement",
   "metadata": {},
   "outputs": [],
   "source": [
    "sell_time = []\n",
    "\n",
    "for i in range(len(test_time_pred)):\n",
    "    sell_time.append(int(round(test_time_pred[i][0])))\n",
    "    "
   ]
  },
  {
   "cell_type": "markdown",
   "id": "early-mills",
   "metadata": {},
   "source": [
    "최대 값 매수 범위 설정"
   ]
  },
  {
   "cell_type": "code",
   "execution_count": 33,
   "id": "monetary-cooler",
   "metadata": {},
   "outputs": [],
   "source": [
    "buy_quantity = np.where(test_price_pred > 1.015, 1, 0)"
   ]
  },
  {
   "cell_type": "code",
   "execution_count": 34,
   "id": "meaningful-masters",
   "metadata": {},
   "outputs": [
    {
     "data": {
      "text/html": [
       "<div>\n",
       "<style scoped>\n",
       "    .dataframe tbody tr th:only-of-type {\n",
       "        vertical-align: middle;\n",
       "    }\n",
       "\n",
       "    .dataframe tbody tr th {\n",
       "        vertical-align: top;\n",
       "    }\n",
       "\n",
       "    .dataframe thead th {\n",
       "        text-align: right;\n",
       "    }\n",
       "</style>\n",
       "<table border=\"1\" class=\"dataframe\">\n",
       "  <thead>\n",
       "    <tr style=\"text-align: right;\">\n",
       "      <th></th>\n",
       "      <th>sample_id</th>\n",
       "      <th>buy_quantity</th>\n",
       "      <th>sell_time</th>\n",
       "    </tr>\n",
       "  </thead>\n",
       "  <tbody>\n",
       "    <tr>\n",
       "      <th>0</th>\n",
       "      <td>7661</td>\n",
       "      <td>0</td>\n",
       "      <td>0</td>\n",
       "    </tr>\n",
       "    <tr>\n",
       "      <th>1</th>\n",
       "      <td>7662</td>\n",
       "      <td>0</td>\n",
       "      <td>0</td>\n",
       "    </tr>\n",
       "    <tr>\n",
       "      <th>2</th>\n",
       "      <td>7663</td>\n",
       "      <td>0</td>\n",
       "      <td>0</td>\n",
       "    </tr>\n",
       "    <tr>\n",
       "      <th>3</th>\n",
       "      <td>7664</td>\n",
       "      <td>0</td>\n",
       "      <td>0</td>\n",
       "    </tr>\n",
       "    <tr>\n",
       "      <th>4</th>\n",
       "      <td>7665</td>\n",
       "      <td>0</td>\n",
       "      <td>0</td>\n",
       "    </tr>\n",
       "    <tr>\n",
       "      <th>...</th>\n",
       "      <td>...</td>\n",
       "      <td>...</td>\n",
       "      <td>...</td>\n",
       "    </tr>\n",
       "    <tr>\n",
       "      <th>530</th>\n",
       "      <td>8191</td>\n",
       "      <td>0</td>\n",
       "      <td>0</td>\n",
       "    </tr>\n",
       "    <tr>\n",
       "      <th>531</th>\n",
       "      <td>8192</td>\n",
       "      <td>0</td>\n",
       "      <td>0</td>\n",
       "    </tr>\n",
       "    <tr>\n",
       "      <th>532</th>\n",
       "      <td>8193</td>\n",
       "      <td>0</td>\n",
       "      <td>0</td>\n",
       "    </tr>\n",
       "    <tr>\n",
       "      <th>533</th>\n",
       "      <td>8194</td>\n",
       "      <td>0</td>\n",
       "      <td>0</td>\n",
       "    </tr>\n",
       "    <tr>\n",
       "      <th>534</th>\n",
       "      <td>8195</td>\n",
       "      <td>0</td>\n",
       "      <td>0</td>\n",
       "    </tr>\n",
       "  </tbody>\n",
       "</table>\n",
       "<p>535 rows × 3 columns</p>\n",
       "</div>"
      ],
      "text/plain": [
       "     sample_id  buy_quantity  sell_time\n",
       "0         7661             0          0\n",
       "1         7662             0          0\n",
       "2         7663             0          0\n",
       "3         7664             0          0\n",
       "4         7665             0          0\n",
       "..         ...           ...        ...\n",
       "530       8191             0          0\n",
       "531       8192             0          0\n",
       "532       8193             0          0\n",
       "533       8194             0          0\n",
       "534       8195             0          0\n",
       "\n",
       "[535 rows x 3 columns]"
      ]
     },
     "execution_count": 34,
     "metadata": {},
     "output_type": "execute_result"
    }
   ],
   "source": [
    "submission = pd.read_csv('./data/sample_submission.csv')\n",
    "submission "
   ]
  },
  {
   "cell_type": "code",
   "execution_count": 35,
   "id": "median-chase",
   "metadata": {},
   "outputs": [
    {
     "data": {
      "text/html": [
       "<div>\n",
       "<style scoped>\n",
       "    .dataframe tbody tr th:only-of-type {\n",
       "        vertical-align: middle;\n",
       "    }\n",
       "\n",
       "    .dataframe tbody tr th {\n",
       "        vertical-align: top;\n",
       "    }\n",
       "\n",
       "    .dataframe thead th {\n",
       "        text-align: right;\n",
       "    }\n",
       "</style>\n",
       "<table border=\"1\" class=\"dataframe\">\n",
       "  <thead>\n",
       "    <tr style=\"text-align: right;\">\n",
       "      <th></th>\n",
       "      <th>sample_id</th>\n",
       "      <th>buy_quantity</th>\n",
       "      <th>sell_time</th>\n",
       "    </tr>\n",
       "  </thead>\n",
       "  <tbody>\n",
       "    <tr>\n",
       "      <th>0</th>\n",
       "      <td>7661</td>\n",
       "      <td>0</td>\n",
       "      <td>46</td>\n",
       "    </tr>\n",
       "    <tr>\n",
       "      <th>1</th>\n",
       "      <td>7662</td>\n",
       "      <td>0</td>\n",
       "      <td>57</td>\n",
       "    </tr>\n",
       "    <tr>\n",
       "      <th>2</th>\n",
       "      <td>7663</td>\n",
       "      <td>0</td>\n",
       "      <td>50</td>\n",
       "    </tr>\n",
       "    <tr>\n",
       "      <th>3</th>\n",
       "      <td>7664</td>\n",
       "      <td>0</td>\n",
       "      <td>59</td>\n",
       "    </tr>\n",
       "    <tr>\n",
       "      <th>4</th>\n",
       "      <td>7665</td>\n",
       "      <td>0</td>\n",
       "      <td>45</td>\n",
       "    </tr>\n",
       "    <tr>\n",
       "      <th>...</th>\n",
       "      <td>...</td>\n",
       "      <td>...</td>\n",
       "      <td>...</td>\n",
       "    </tr>\n",
       "    <tr>\n",
       "      <th>530</th>\n",
       "      <td>8191</td>\n",
       "      <td>0</td>\n",
       "      <td>57</td>\n",
       "    </tr>\n",
       "    <tr>\n",
       "      <th>531</th>\n",
       "      <td>8192</td>\n",
       "      <td>0</td>\n",
       "      <td>55</td>\n",
       "    </tr>\n",
       "    <tr>\n",
       "      <th>532</th>\n",
       "      <td>8193</td>\n",
       "      <td>0</td>\n",
       "      <td>43</td>\n",
       "    </tr>\n",
       "    <tr>\n",
       "      <th>533</th>\n",
       "      <td>8194</td>\n",
       "      <td>0</td>\n",
       "      <td>52</td>\n",
       "    </tr>\n",
       "    <tr>\n",
       "      <th>534</th>\n",
       "      <td>8195</td>\n",
       "      <td>0</td>\n",
       "      <td>56</td>\n",
       "    </tr>\n",
       "  </tbody>\n",
       "</table>\n",
       "<p>535 rows × 3 columns</p>\n",
       "</div>"
      ],
      "text/plain": [
       "     sample_id  buy_quantity  sell_time\n",
       "0         7661             0         46\n",
       "1         7662             0         57\n",
       "2         7663             0         50\n",
       "3         7664             0         59\n",
       "4         7665             0         45\n",
       "..         ...           ...        ...\n",
       "530       8191             0         57\n",
       "531       8192             0         55\n",
       "532       8193             0         43\n",
       "533       8194             0         52\n",
       "534       8195             0         56\n",
       "\n",
       "[535 rows x 3 columns]"
      ]
     },
     "execution_count": 35,
     "metadata": {},
     "output_type": "execute_result"
    }
   ],
   "source": [
    "submission['sell_time'] = sell_time\n",
    "submission"
   ]
  },
  {
   "cell_type": "code",
   "execution_count": 36,
   "id": "unusual-tokyo",
   "metadata": {},
   "outputs": [
    {
     "data": {
      "text/html": [
       "<div>\n",
       "<style scoped>\n",
       "    .dataframe tbody tr th:only-of-type {\n",
       "        vertical-align: middle;\n",
       "    }\n",
       "\n",
       "    .dataframe tbody tr th {\n",
       "        vertical-align: top;\n",
       "    }\n",
       "\n",
       "    .dataframe thead th {\n",
       "        text-align: right;\n",
       "    }\n",
       "</style>\n",
       "<table border=\"1\" class=\"dataframe\">\n",
       "  <thead>\n",
       "    <tr style=\"text-align: right;\">\n",
       "      <th></th>\n",
       "      <th>sample_id</th>\n",
       "      <th>buy_quantity</th>\n",
       "      <th>sell_time</th>\n",
       "    </tr>\n",
       "  </thead>\n",
       "  <tbody>\n",
       "    <tr>\n",
       "      <th>0</th>\n",
       "      <td>7661</td>\n",
       "      <td>1</td>\n",
       "      <td>46</td>\n",
       "    </tr>\n",
       "    <tr>\n",
       "      <th>1</th>\n",
       "      <td>7662</td>\n",
       "      <td>1</td>\n",
       "      <td>57</td>\n",
       "    </tr>\n",
       "    <tr>\n",
       "      <th>2</th>\n",
       "      <td>7663</td>\n",
       "      <td>1</td>\n",
       "      <td>50</td>\n",
       "    </tr>\n",
       "    <tr>\n",
       "      <th>3</th>\n",
       "      <td>7664</td>\n",
       "      <td>1</td>\n",
       "      <td>59</td>\n",
       "    </tr>\n",
       "    <tr>\n",
       "      <th>4</th>\n",
       "      <td>7665</td>\n",
       "      <td>1</td>\n",
       "      <td>45</td>\n",
       "    </tr>\n",
       "    <tr>\n",
       "      <th>...</th>\n",
       "      <td>...</td>\n",
       "      <td>...</td>\n",
       "      <td>...</td>\n",
       "    </tr>\n",
       "    <tr>\n",
       "      <th>530</th>\n",
       "      <td>8191</td>\n",
       "      <td>1</td>\n",
       "      <td>57</td>\n",
       "    </tr>\n",
       "    <tr>\n",
       "      <th>531</th>\n",
       "      <td>8192</td>\n",
       "      <td>0</td>\n",
       "      <td>55</td>\n",
       "    </tr>\n",
       "    <tr>\n",
       "      <th>532</th>\n",
       "      <td>8193</td>\n",
       "      <td>1</td>\n",
       "      <td>43</td>\n",
       "    </tr>\n",
       "    <tr>\n",
       "      <th>533</th>\n",
       "      <td>8194</td>\n",
       "      <td>0</td>\n",
       "      <td>52</td>\n",
       "    </tr>\n",
       "    <tr>\n",
       "      <th>534</th>\n",
       "      <td>8195</td>\n",
       "      <td>0</td>\n",
       "      <td>56</td>\n",
       "    </tr>\n",
       "  </tbody>\n",
       "</table>\n",
       "<p>535 rows × 3 columns</p>\n",
       "</div>"
      ],
      "text/plain": [
       "     sample_id  buy_quantity  sell_time\n",
       "0         7661             1         46\n",
       "1         7662             1         57\n",
       "2         7663             1         50\n",
       "3         7664             1         59\n",
       "4         7665             1         45\n",
       "..         ...           ...        ...\n",
       "530       8191             1         57\n",
       "531       8192             0         55\n",
       "532       8193             1         43\n",
       "533       8194             0         52\n",
       "534       8195             0         56\n",
       "\n",
       "[535 rows x 3 columns]"
      ]
     },
     "execution_count": 36,
     "metadata": {},
     "output_type": "execute_result"
    }
   ],
   "source": [
    "submission['buy_quantity'] = buy_quantity\n",
    "submission"
   ]
  },
  {
   "cell_type": "code",
   "execution_count": 37,
   "id": "mediterranean-interest",
   "metadata": {},
   "outputs": [
    {
     "data": {
      "text/plain": [
       "0    315\n",
       "1    220\n",
       "Name: buy_quantity, dtype: int64"
      ]
     },
     "execution_count": 37,
     "metadata": {},
     "output_type": "execute_result"
    }
   ],
   "source": [
    "submission.buy_quantity.value_counts() "
   ]
  },
  {
   "cell_type": "code",
   "execution_count": 38,
   "id": "raised-calcium",
   "metadata": {},
   "outputs": [],
   "source": [
    "submission.to_csv('./submission_lgbm_re_1.015.csv', index = False)"
   ]
  },
  {
   "cell_type": "code",
   "execution_count": null,
   "id": "cosmetic-vanilla",
   "metadata": {},
   "outputs": [],
   "source": []
  }
 ],
 "metadata": {
  "kernelspec": {
   "display_name": "Python 3",
   "language": "python",
   "name": "python3"
  },
  "language_info": {
   "codemirror_mode": {
    "name": "ipython",
    "version": 3
   },
   "file_extension": ".py",
   "mimetype": "text/x-python",
   "name": "python",
   "nbconvert_exporter": "python",
   "pygments_lexer": "ipython3",
   "version": "3.6.12"
  }
 },
 "nbformat": 4,
 "nbformat_minor": 5
}
